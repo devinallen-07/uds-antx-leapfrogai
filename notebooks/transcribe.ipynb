{
 "cells": [
  {
   "cell_type": "code",
   "execution_count": 9,
   "id": "32d1a879-b73e-4f9d-a714-1ee54ab2759a",
   "metadata": {},
   "outputs": [],
   "source": [
    "import time\n",
    "import json\n",
    "import os\n",
    "import requests\n",
    "\n",
    "URL_TRANSCRIPTION = 'https://leapfrogai-api.uds.dev/openai/v1/audio/transcriptions'\n",
    "\n",
    "LEAPFROG_API_KEY = os.environ.get('LEAPFROG_API_KEY', 'test')\n",
    "if not LEAPFROG_API_KEY:\n",
    "   log.error(\"LEAPFROG_API_KEY environment variable is not set\")\n",
    "   raise ValueError(\"LEAPFROG_API_KEY environment variable is not set\")\n",
    "\n",
    "STATE_CHANGE_PROB = .2\n",
    "\n",
    "\n",
    "def transcribe_audio(file_path):\n",
    "   url_transcription = URL_TRANSCRIPTION\n",
    "   headers = {\n",
    "      'accept': 'application/json',\n",
    "      'Authorization': f'Bearer {LEAPFROG_API_KEY}'\n",
    "   }\n",
    "\n",
    "   with open(file_path, 'rb') as audio_file:\n",
    "      files = {\n",
    "         'file': (file_path, audio_file, 'audio/mpeg')\n",
    "      }\n",
    "\n",
    "      data = {\n",
    "         'model': 'whisper',\n",
    "         'file': f'@{file_path}',\n",
    "         'language': 'en',\n",
    "         'prompt': 'You are a navy radio operator whose job is to listen to the radio and transcribe what is being said. Ignore static and silence. Return only human voices.',\n",
    "         'response_format': '',\n",
    "         'temperature': '0'\n",
    "      }\n",
    "\n",
    "      start_time = time.time()\n",
    "      response = requests.post(url_transcription, headers=headers, files=files, data=data, verify=False)\n",
    "      end_time = time.time()\n",
    "\n",
    "   if response.status_code == 200:\n",
    "      transcription = response.json()['text']\n",
    "      time_taken = end_time - start_time\n",
    "      return transcription, time_taken\n",
    "   else:\n",
    "      log.error(f\"Error transcribing {file_path}: {response.status_code}\")\n",
    "      log.error(f\"{response.json()}\")\n",
    "      return \"\", 0"
   ]
  },
  {
   "cell_type": "code",
   "execution_count": 10,
   "id": "b0e49dec-6de0-4c77-a0f5-7f189cae3b9c",
   "metadata": {},
   "outputs": [
    {
     "name": "stderr",
     "output_type": "stream",
     "text": [
      "/opt/homebrew/Cellar/jupyterlab/4.2.3/libexec/lib/python3.12/site-packages/urllib3/connectionpool.py:1099: InsecureRequestWarning: Unverified HTTPS request is being made to host 'leapfrogai-api.uds.dev'. Adding certificate verification is strongly advised. See: https://urllib3.readthedocs.io/en/latest/advanced-usage.html#tls-warnings\n",
      "  warnings.warn(\n"
     ]
    },
    {
     "ename": "NameError",
     "evalue": "name 'log' is not defined",
     "output_type": "error",
     "traceback": [
      "\u001b[0;31m---------------------------------------------------------------------------\u001b[0m",
      "\u001b[0;31mNameError\u001b[0m                                 Traceback (most recent call last)",
      "Cell \u001b[0;32mIn[10], line 1\u001b[0m\n\u001b[0;32m----> 1\u001b[0m \u001b[43mtranscribe_audio\u001b[49m\u001b[43m(\u001b[49m\u001b[38;5;124;43m\"\u001b[39;49m\u001b[38;5;124;43m/Users/devinallen/test.m4a\u001b[39;49m\u001b[38;5;124;43m\"\u001b[39;49m\u001b[43m)\u001b[49m\n",
      "Cell \u001b[0;32mIn[9], line 47\u001b[0m, in \u001b[0;36mtranscribe_audio\u001b[0;34m(file_path)\u001b[0m\n\u001b[1;32m     45\u001b[0m    \u001b[38;5;28;01mreturn\u001b[39;00m transcription, time_taken\n\u001b[1;32m     46\u001b[0m \u001b[38;5;28;01melse\u001b[39;00m:\n\u001b[0;32m---> 47\u001b[0m    \u001b[43mlog\u001b[49m\u001b[38;5;241m.\u001b[39merror(\u001b[38;5;124mf\u001b[39m\u001b[38;5;124m\"\u001b[39m\u001b[38;5;124mError transcribing \u001b[39m\u001b[38;5;132;01m{\u001b[39;00mfile_path\u001b[38;5;132;01m}\u001b[39;00m\u001b[38;5;124m: \u001b[39m\u001b[38;5;132;01m{\u001b[39;00mresponse\u001b[38;5;241m.\u001b[39mstatus_code\u001b[38;5;132;01m}\u001b[39;00m\u001b[38;5;124m\"\u001b[39m)\n\u001b[1;32m     48\u001b[0m    log\u001b[38;5;241m.\u001b[39merror(\u001b[38;5;124mf\u001b[39m\u001b[38;5;124m\"\u001b[39m\u001b[38;5;132;01m{\u001b[39;00mresponse\u001b[38;5;241m.\u001b[39mjson()\u001b[38;5;132;01m}\u001b[39;00m\u001b[38;5;124m\"\u001b[39m)\n\u001b[1;32m     49\u001b[0m    \u001b[38;5;28;01mreturn\u001b[39;00m \u001b[38;5;124m\"\u001b[39m\u001b[38;5;124m\"\u001b[39m, \u001b[38;5;241m0\u001b[39m\n",
      "\u001b[0;31mNameError\u001b[0m: name 'log' is not defined"
     ]
    }
   ],
   "source": [
    "transcribe_audio(\"/Users/devinallen/test.m4a\")"
   ]
  },
  {
   "cell_type": "code",
   "execution_count": null,
   "id": "d39385b9-d70e-4b97-a5e5-8dfec19fcce6",
   "metadata": {},
   "outputs": [],
   "source": []
  }
 ],
 "metadata": {
  "kernelspec": {
   "display_name": "Python 3 (ipykernel)",
   "language": "python",
   "name": "python3"
  },
  "language_info": {
   "codemirror_mode": {
    "name": "ipython",
    "version": 3
   },
   "file_extension": ".py",
   "mimetype": "text/x-python",
   "name": "python",
   "nbconvert_exporter": "python",
   "pygments_lexer": "ipython3",
   "version": "3.12.5"
  }
 },
 "nbformat": 4,
 "nbformat_minor": 5
}
