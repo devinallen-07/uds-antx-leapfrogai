{
 "cells": [
  {
   "cell_type": "code",
   "execution_count": 1,
   "id": "21514e89-5426-49db-b9dc-4f69c3e00617",
   "metadata": {},
   "outputs": [],
   "source": [
    "import sys\n",
    "sys.path.append('../')"
   ]
  },
  {
   "cell_type": "code",
   "execution_count": 2,
   "id": "981c1516-ce4f-4184-a25e-a80fd9780651",
   "metadata": {},
   "outputs": [],
   "source": [
    "%load_ext autoreload\n",
    "%autoreload 2"
   ]
  },
  {
   "cell_type": "code",
   "execution_count": 3,
   "id": "c284f6f1-a708-499a-8baa-3cdecfe627e5",
   "metadata": {},
   "outputs": [
    {
     "ename": "ModuleNotFoundError",
     "evalue": "No module named 'dotenv'",
     "output_type": "error",
     "traceback": [
      "\u001b[0;31m---------------------------------------------------------------------------\u001b[0m",
      "\u001b[0;31mModuleNotFoundError\u001b[0m                       Traceback (most recent call last)",
      "Cell \u001b[0;32mIn[3], line 1\u001b[0m\n\u001b[0;32m----> 1\u001b[0m \u001b[38;5;28;01mfrom\u001b[39;00m \u001b[38;5;21;01mdotenv\u001b[39;00m \u001b[38;5;28;01mimport\u001b[39;00m load_dotenv, find_dotenv\n\u001b[1;32m      2\u001b[0m _ \u001b[38;5;241m=\u001b[39m load_dotenv(find_dotenv(), override\u001b[38;5;241m=\u001b[39m\u001b[38;5;28;01mTrue\u001b[39;00m)\n",
      "\u001b[0;31mModuleNotFoundError\u001b[0m: No module named 'dotenv'"
     ]
    }
   ],
   "source": [
    "from dotenv import load_dotenv, find_dotenv\n",
    "_ = load_dotenv(find_dotenv(), override=True)"
   ]
  },
  {
   "cell_type": "markdown",
   "id": "3bcff046-3c24-4006-8f2a-1aa25510eec6",
   "metadata": {},
   "source": [
    "---"
   ]
  },
  {
   "cell_type": "code",
   "execution_count": 4,
   "id": "6d5fd37a-fb7d-48ae-9379-9d0eb9477876",
   "metadata": {},
   "outputs": [
    {
     "ename": "ModuleNotFoundError",
     "evalue": "No module named 'tqdm'",
     "output_type": "error",
     "traceback": [
      "\u001b[0;31m---------------------------------------------------------------------------\u001b[0m",
      "\u001b[0;31mModuleNotFoundError\u001b[0m                       Traceback (most recent call last)",
      "Cell \u001b[0;32mIn[4], line 4\u001b[0m\n\u001b[1;32m      2\u001b[0m \u001b[38;5;28;01mimport\u001b[39;00m \u001b[38;5;21;01mjson\u001b[39;00m\n\u001b[1;32m      3\u001b[0m \u001b[38;5;28;01mfrom\u001b[39;00m \u001b[38;5;21;01mtyping\u001b[39;00m \u001b[38;5;28;01mimport\u001b[39;00m Any\n\u001b[0;32m----> 4\u001b[0m \u001b[38;5;28;01mfrom\u001b[39;00m \u001b[38;5;21;01mtqdm\u001b[39;00m \u001b[38;5;28;01mimport\u001b[39;00m tqdm\n\u001b[1;32m      5\u001b[0m \u001b[38;5;28;01mimport\u001b[39;00m \u001b[38;5;21;01mos\u001b[39;00m\n\u001b[1;32m      6\u001b[0m \u001b[38;5;28;01mimport\u001b[39;00m \u001b[38;5;21;01mpandas\u001b[39;00m \u001b[38;5;28;01mas\u001b[39;00m \u001b[38;5;21;01mpd\u001b[39;00m\n",
      "\u001b[0;31mModuleNotFoundError\u001b[0m: No module named 'tqdm'"
     ]
    }
   ],
   "source": [
    "import requests\n",
    "import json\n",
    "from typing import Any\n",
    "from tqdm import tqdm\n",
    "import os\n",
    "import pandas as pd\n",
    "pd.set_option('display.max_colwidth', None)\n",
    "pd.set_option('display.max_rows', 100)\n",
    "\n",
    "from group_data import df_pipe\n",
    "from src.prompts.options import next_state_options\n",
    "from src.prompts.system_prompt_quotes_v3 import sys_prompt\n",
    "from src.prompts.user_prompt_quotes_v3 import (\n",
    "    examples, \n",
    "    user, \n",
    "    parse_data_object, \n",
    "    build_user_message\n",
    ")\n",
    "from src.enums.states import States\n",
    "from src.enums.tracks import track_mapping\n",
    "import tiktoken\n",
    "import re\n",
    "from pathlib import Path"
   ]
  },
  {
   "cell_type": "markdown",
   "id": "2c2c69b5-deba-42e8-930a-885ffee87fdf",
   "metadata": {},
   "source": [
    "### Import Data + Initialize Encoder"
   ]
  },
  {
   "cell_type": "code",
   "execution_count": 5,
   "id": "68add5e1-9052-4daf-917c-c1c9cd145efb",
   "metadata": {},
   "outputs": [],
   "source": [
    "data_path = '/Users/americanthinker/Downloads/antx_data/2024-05-14_all_tracks.csv'\n",
    "test_data = '/Users/americanthinker/Downloads/antx_data/2024-05-22_all_tracks.csv'\n",
    "data_dir = '/Users/americanthinker/Downloads/antx_data/'\n",
    "csv_paths = [path for path in Path(data_dir).iterdir() if path.name.endswith('csv')]"
   ]
  },
  {
   "cell_type": "code",
   "execution_count": 6,
   "id": "889354fc-80d8-4a8c-abe9-78a6c5cf6a85",
   "metadata": {},
   "outputs": [],
   "source": [
    "def convertCSV_to_records(path: str) -> list[dict]:\n",
    "    return pd.read_csv(path).fillna('').to_dict(orient='records')\n",
    "def get_valid_states(records: list[dict]) -> list[dict]:\n",
    "    return [item for item in records if any(item['state'])]"
   ]
  },
  {
   "cell_type": "code",
   "execution_count": 7,
   "id": "a9f65f29-16d1-4c21-82fd-ab773853807d",
   "metadata": {},
   "outputs": [
    {
     "data": {
      "text/plain": [
       "[13, 13, 18, 14, 26, 21, 28, 9]"
      ]
     },
     "execution_count": 7,
     "metadata": {},
     "output_type": "execute_result"
    }
   ],
   "source": [
    "all_records = [convertCSV_to_records(path) for path in csv_paths]\n",
    "valid_records = [get_valid_states(record_list) for record_list in all_records]"
   ]
  },
  {
   "cell_type": "code",
   "execution_count": 13,
   "id": "9581a509-2974-4de3-9b0a-495ce3d743e6",
   "metadata": {},
   "outputs": [],
   "source": [
    "def parse_data_object(data_object: dict[str,Any]) -> str:\n",
    "    '''\n",
    "    Given a data object representing a single minute of radio tracks,\n",
    "    this function parses the tracks, maps the original track names to \n",
    "    their functional names, and joins them with a double new-line break.\n",
    "    '''\n",
    "    tracks = [{k:v} for k,v in data_object.items() if k.startswith('track')]\n",
    "    mapped_tracks = []\n",
    "    for track in tracks:\n",
    "        for key, value in track.items():\n",
    "            mapped_tracks.append(f'{track_mapping[key]}: {value}')\n",
    "    return '\\n\\n'.join(mapped_tracks)"
   ]
  },
  {
   "cell_type": "code",
   "execution_count": 14,
   "id": "4a7225bb-a8e4-483e-b3f6-353d0092de53",
   "metadata": {},
   "outputs": [
    {
     "data": {
      "text/plain": [
       "{'start': '5/14/2024 8:42',\n",
       " 'end': '5/14/2024 8:42',\n",
       " 'track1': '',\n",
       " 'track2': '',\n",
       " 'track3': 'All stations, all stations, be advised, trial start, trial start.',\n",
       " 'track4': 'All stations, all stations, be advised, trial start, trial start.',\n",
       " 'state': 'Trial Start',\n",
       " 'notes': '',\n",
       " 'delay type': ''}"
      ]
     },
     "execution_count": 14,
     "metadata": {},
     "output_type": "execute_result"
    }
   ],
   "source": [
    "record = valid_records[4][0]\n",
    "record"
   ]
  },
  {
   "cell_type": "code",
   "execution_count": 19,
   "id": "5c1df6e4-1c5a-4395-a884-08b7df0d42aa",
   "metadata": {},
   "outputs": [],
   "source": [
    "from src.enums.tracks import Tracks"
   ]
  },
  {
   "cell_type": "code",
   "execution_count": 20,
   "id": "eaf66710-abab-4398-9491-ef792dd6ce6d",
   "metadata": {},
   "outputs": [
    {
     "data": {
      "text/plain": [
       "<enum 'Tracks'>"
      ]
     },
     "execution_count": 20,
     "metadata": {},
     "output_type": "execute_result"
    }
   ],
   "source": [
    "Tracks"
   ]
  },
  {
   "cell_type": "code",
   "execution_count": null,
   "id": "7ff20f53-221f-4d7d-9e83-2bf0269de24a",
   "metadata": {},
   "outputs": [],
   "source": [
    "build_user_message("
   ]
  },
  {
   "cell_type": "code",
   "execution_count": 71,
   "id": "358f9384-0092-425d-b247-ac92aa6aed7e",
   "metadata": {},
   "outputs": [],
   "source": [
    "data = df_pipe(data_path, fill_state=False, merge_tracks=True)\n",
    "records = pd.read_csv(test_data).fillna('').to_dict(orient='records')\n",
    "encoder = tiktoken.get_encoding('cl100k_base')"
   ]
  },
  {
   "cell_type": "code",
   "execution_count": 73,
   "id": "6f3f7883-ea41-44d2-8db6-a28eb94cd14c",
   "metadata": {},
   "outputs": [],
   "source": [
    "#parse out only the data rows where a state change is present\n",
    "# states = [{k:v} for k,v in test.items() if any(v['state'])]\n",
    "valid_states = [item for item in records if any(item['state'])]"
   ]
  },
  {
   "cell_type": "markdown",
   "id": "6998be69-1881-48ad-92db-e791b3e0af6d",
   "metadata": {},
   "source": [
    "### Peek at a sample User Message"
   ]
  },
  {
   "cell_type": "code",
   "execution_count": 8,
   "id": "61c552a5-767b-4ccb-8152-2bc08067de43",
   "metadata": {},
   "outputs": [
    {
     "name": "stdout",
     "output_type": "stream",
     "text": [
      "\n",
      "As context you will be given a Current State and a series of radio transmissions broken out into separate tracks. \n",
      "The transmissions represent dialogue between stakeholders involved in maritime UAV test and evaluation trials.\n",
      "  \n",
      "Given the context perform the following two sequential tasks:\n",
      "1. Decide if a change to the Current State is warranted given the transmissions. \n",
      "   - If no change is warranted simply return a json object as follows:\n",
      "   - Output: {\"current_state\": \"<current state>\"}\n",
      "\n",
      "2. Based on your decision from step 1, if a change in state is warranted then choose from among the next state options and return your output to include, current state, predicted state, and your reasoning for choosing the next predicted state.  Follow the output guidelines below:\n",
      "    - Output: {\"predicted_state\": \"<predicted state>\", \"reason\": \"<reason you chose the predicted state>\"}\n",
      "\n",
      "\n",
      "EXAMPLES\n",
      "--------------------------\n",
      "Use the following examples as your guide for predicting whether or not to change the state and if so, what to predict:\n",
      "\n",
      "EXAMPLE 1: No change in state\n",
      "Current State:\tTrial Start\n",
      "Radio Transmissions:\n",
      "- Boat Operators: '',\n",
      "- Test Director: \"Yes. Oh, the NavWar guy, I asked him. Yes. What Grant and I were talking about is that he gets operator overload sometimes. And so if there's a call going through on the green radio, that he might not hear it if he's fully in on the headset. Our thought was, okay, well, there's a bunch of NAVOR folks in there. Honestly, I grabbed the first one that I saw. The one that came up to me was like, hey, what can I do? Like, perfect. I'm like, but he's probably not the right person for that. I don't know if it's... That's what I kind of thought, figured would happen.\"\n",
      "- Patrol Craft Command Unit (PCCU): \"Is that independent? Oh no, I didn't even hear it. Is there volume on this? What is this? Oh, independent. Oh my gosh. I've been here a year. All right. Again, I cannot stress this enough, comms is not my day job. It is today, but...\"\n",
      "Potential next state options: ['Trial End', 'Delay Start', 'Mistrial', 'RTB']\n",
      "Output: {\"current_state\": \"Trial Start\"}\n",
      "\n",
      "EXAMPLE 2: Delay Start prediction\n",
      "Current State:\tTrial Start\n",
      "Radio Transmissions:\n",
      "- Boat Operators: 'Gents it looks like we have some fishing vessels approaching the operational area.',\n",
      "- Test Director: \"Are you checking with her for that? 10 knots. Thank you. 2-1-1. EpiSci. I think we'll let them run for a while. I think that LBIT is still struggling.\",\n",
      "- Patrol Craft Command Unit (PCCU): \"I'm just going to confirm we're still at 10 knots. Still 10 knots. So we're almost there. What? Basically perpendicular along the box. So roughly 1, 3, 0 for all of us. I'm just going to set this to one. If anything, you start to angle out of the box a little bit, just change a little bit. So definitely stay within it.\n",
      "Potential next state options: ['Trial End', 'Delay Start', 'Mistrial', 'RTB']\n",
      "Output: {\"predicted_state\": \"Delay Start\", \"reason\": \"A fishing vessel is close to the trial area and could be a hazard to safe operations\"}\n",
      "\n",
      "EXAMPLE 3: No change in state\n",
      "Current State:\tDelay Start\n",
      "Radio Transmissions:\n",
      "- Boat Operators: 'you'\n",
      "- Test Director: \"Hello. Copy. Yeah. Do you only want them to send it if you tell them to? That one.\"\n",
      "- Patrol Craft Command Unit (PCCU): \"I was like, hey, I don't really, like, in a good way, but like, I don't really like this. This could be more efficient. Oh. Yeah, they can turn it way down. Yeah\",\n",
      "Potential next state options: ['Delay End', 'Mistrial', 'RTB']\n",
      "Output: {\"current_state\": \"Delay Start\"}\n",
      "\n",
      "EXAMPLE 4: Trial Start prediction\n",
      "Current State:\tDelay End\n",
      "Radio Transmissions:\n",
      "- Boat Operators: \"Do you think that's like mounting location or do you think that there is current What I'm also wondering I'm wondering if there's a boat a support boat next to red 16 between it and the radio right now If we get into, so we're ideally ramping up to a test. If we go into another PR, we're like, trying to figure shit out, at that point I would say we'll do, you got it.\",\n",
      "- Test Director: \"That's all well and good, alright enough chatter.  Go ahead and commence trial number 2-1-3.\"\n",
      "- Patrol Craft Command Unit (PCCU): \"Maybe just don't go directly at the dot. Just try to miss it by a little bit. Just in case. Yeah, and once you clear this hook a little bit more. Yeah.\"\n",
      "Potential next state options: ['Trial Start', 'Delay Start', 'Mistrial', 'RTB']\n",
      "Output: {\"predicted_state\": \"Trial Start\", \"reason\": \"Radio transmission from the Test Director indicates that a new trial (2-1-3) has just commenced.\"}\n",
      "\n",
      "EXAMPLE 5: Delay Start prediction\n",
      "Current State:\tTrial Start\n",
      "Radio Transmissions:\n",
      "- Boat Operators: \"25 walk\"\n",
      "- Test Director: \"That'd be a fun upgrade. Yeah. Not fun is the right word, but I could see a use for that of being able to play back previous data. Yeah, I think of like a Ross bag or like you can still pop up in Arviz being able to do some version like that and see it propagate. Yeah, right. Yeah, let's put this on to. I'm curious at field events how much of the runway for the next series of dev presses gets generated. that's like, okay, so this is the first action that I'm hearing out of this. We're like, okay, here's a mole update. Is that a normal thing that happens at these?\"\n",
      "- Patrol Craft Command Unit (PCCU): \"Hold up now, I'm seeing several marine animals in your vicinity.\"\n",
      "Potential next state options: ['Trial End', 'Delay Start', 'Mistrial', 'RTB']\n",
      "Output: {\"predicted_state\": \"Delay Start\", \"reason\": \"Radio transmission from the PCCU indicates that there are marine animals spotted near the testing area, thus necessitating a delay in starting the trial\"}\n",
      "\n",
      "EXAMPLE 6: Mistrial prediction\n",
      "Current State:\tDelay End\n",
      "Radio Transmissions:\n",
      "- Boat Operators: \"Good afternoon, again, sir. Leaving precautionary area. Yeah, I'm joining you. Seth, I can't see Lucy Tronco on my starboard side. We'll do a search for her. Copy that, Roger. Ajo traffic, Motorcycle Manor, 10-1\"\n",
      "- Test Director: \"They're new? Okay, I'm not going crazy. They should find a boat soon, huh? What are you guys able to see on your screen? Anthony, can I ask you a question? What's going on in that window? I think I made a folder. This is getting out of hand, going to declare a mistrial.\"\n",
      "- Patrol Craft Command Unit (PCCU): \"So one more thing to give us heads up on the way in these are supposed to go 20 meters off they see something that's supposed to go around it kind of thing. They don't always do that. So like Tango 10 and Tango 20 are going right towards each other. Just be ready to do evasive maneuvers if it looks like they're like going head on. Like that one I'd zoom way in. Maybe go the circle thing. Really like the circle thing where it says like 50 meter offset or 10 meter offset, whatever it's at. The ring, yeah. Bump that to 30 meters or so, yeah. And does it, oh. Very bottom right, the lock. Yeah. And then zoom way in. Yeah. So, if it looks like within like 30 meters, how does it start going right towards each other? Yeah, you're absolutely good.\"\n",
      "Potential next state options: ['Trial Start', 'Delay Start', 'Mistrial', 'RTB']\n",
      "Output: {\"predicted_state\": \"Mistrial\", \"reason\": \"Radio transmission from the Test Director indicates that operations are getting out of hand and therefore declares a mistrial.\"}\n",
      "\n",
      "--------------------------\n",
      "\n",
      "Current State: Trial End\n",
      "Radio Transmissions:\n",
      "Boat Operators: \n",
      "\n",
      "Test Director: and then a start message later. Nothing heard, send your last. Negative on the trial end. We'll just take the, stop the view. Good copy, so all call, all call, trial end. Let's have red vehicles reset and we will restart, over. Yeah. So this is. And they're controlling red in there, right? Yes. Yeah. So there are two 22-foot WAMVs and one 16-foot WAMV.\n",
      "\n",
      "Patrol Craft Command Unit (PCCU): the trial and we'll just All calls, trial end. Let's have red vehicle reset, and we will restart. Yeah, reset those bad boys. Increase to 15. Yeah, everyone, if you got that one over there. Yep, go exact opposite.\n",
      "Potential next state options: ['Trial Start', 'Delay Start', 'Mistrial', 'RTB']\n",
      "--------------------------\n",
      "Output:\n",
      "\n"
     ]
    }
   ],
   "source": [
    "#set some constatns\n",
    "minute_value = '12:26'\n",
    "tracks = parse_data_object(data[minute_value])\n",
    "current_state = [s for s in data[minute_value]['state'] if s][0]\n",
    "\n",
    "user_message = build_user_message(examples, current_state, tracks, next_state_options[current_state]['Options'])\n",
    "print(user_message)"
   ]
  },
  {
   "cell_type": "markdown",
   "id": "33325ad1-c4c3-488a-995c-97bf591b900a",
   "metadata": {},
   "source": [
    "### View total token length of combined messages"
   ]
  },
  {
   "cell_type": "code",
   "execution_count": 9,
   "id": "ec95ec49-cde0-4348-8b77-594ffdf99ecc",
   "metadata": {},
   "outputs": [
    {
     "data": {
      "text/plain": [
       "2590"
      ]
     },
     "execution_count": 9,
     "metadata": {},
     "output_type": "execute_result"
    }
   ],
   "source": [
    "len(encoder.encode(user_message + sys_prompt))"
   ]
  },
  {
   "cell_type": "markdown",
   "id": "d9560d68-9d80-4316-8b32-68df3aa1946f",
   "metadata": {},
   "source": [
    "### LLM Call setup"
   ]
  },
  {
   "cell_type": "code",
   "execution_count": 10,
   "id": "e15e29c2-92d6-44e4-a626-1790ed032c59",
   "metadata": {},
   "outputs": [],
   "source": [
    "def format_response(response: requests.models.Response):\n",
    "    json_response = response.json()\n",
    "    return json_response['choices'][0]['message']['content'].strip()"
   ]
  },
  {
   "cell_type": "code",
   "execution_count": 11,
   "id": "749eb964-6799-4e8c-a9c8-a51cde4669a3",
   "metadata": {},
   "outputs": [],
   "source": [
    "def chat_completion(user_prompt: str,\n",
    "                    temperature: float=0.8,\n",
    "                    max_tokens: int=4096,\n",
    "                    stream: bool=False,\n",
    "                    raw: bool=False\n",
    "                    ) -> str | dict:\n",
    "    url = os.environ['LEAPFROG_URL']\n",
    "    api_key = os.environ['LEAPFROG_API_KEY']\n",
    "    headers = {\n",
    "    'Authorization': f'Bearer {api_key}',\n",
    "    'Content-Type': 'application/json'\n",
    "    }\n",
    "    data = {\n",
    "    \"model\": \"vllm\",\n",
    "    \"messages\": [\n",
    "        {\n",
    "            \"role\": \"system\",\n",
    "            \"content\": sys_prompt\n",
    "        },\n",
    "        {\n",
    "            \"role\": \"user\",\n",
    "            \"content\": user_prompt,\n",
    "        }\n",
    "    ],\n",
    "    \"stream\": stream,\n",
    "    \"temperature\": temperature,\n",
    "    \"max_tokens\": max_tokens\n",
    "}\n",
    "    try:\n",
    "        response = requests.post(url, headers=headers, data=json.dumps(data))\n",
    "        if response.status_code == 200:\n",
    "            if raw:\n",
    "                return response.json()\n",
    "            else: return format_response(response)\n",
    "        else:\n",
    "            print('Response is not 200')\n",
    "            return response\n",
    "    except Exception as e:\n",
    "        print(e)"
   ]
  },
  {
   "cell_type": "markdown",
   "id": "de60fd59-8c0b-4f67-a571-1d79025140c6",
   "metadata": {},
   "source": [
    "## Test Harness"
   ]
  },
  {
   "cell_type": "code",
   "execution_count": 94,
   "id": "9a4bbcf7-ef98-4490-b1ef-124022acf271",
   "metadata": {},
   "outputs": [],
   "source": [
    "def original_test_harness(test_data: list[dict], temperature: float=0.5) -> list[str]:\n",
    "    current_state = 'Trial Start'\n",
    "    responses = []\n",
    "    for i, data_point in enumerate(tqdm(test_data)):\n",
    "        minute_value = list(data_point.keys())[0]\n",
    "        tracks = parse_data_object(data_point[minute_value])\n",
    "        predicted_state = [s for s in data_point[minute_value]['state'] if s][0]\n",
    "        user_message = build_user_message(examples, current_state, tracks, next_state_options[current_state]['Options'])\n",
    "        responses.append({'response':chat_completion(user_message, temperature=temperature, max_tokens=250), 'label':predicted_state, 'minute': minute_value})\n",
    "        current_state = predicted_state\n",
    "    return responses"
   ]
  },
  {
   "cell_type": "code",
   "execution_count": 143,
   "id": "b577bc39-8652-40f3-a9a7-b7f3ef35a2e5",
   "metadata": {},
   "outputs": [],
   "source": [
    "def new_test_harness(test_data: list[dict], temperature: float=0.5) -> list[str]:\n",
    "    current_state = 'Trial Start'\n",
    "    responses = []\n",
    "    for i, data_point in enumerate(tqdm(test_data)):\n",
    "        try:\n",
    "            minute_value = data_point['minute']\n",
    "            tracks = parse_data_object(data_point)\n",
    "            predicted_state = data_point['state']\n",
    "            user_message = build_user_message(examples, current_state, tracks, next_state_options[current_state]['Options'])\n",
    "            responses.append({'response':chat_completion(user_message, temperature=temperature, max_tokens=250), 'label':predicted_state, 'minute': minute_value})\n",
    "            current_state = predicted_state\n",
    "        except Exception as e:\n",
    "            print(e)\n",
    "            continue\n",
    "    return responses"
   ]
  },
  {
   "cell_type": "code",
   "execution_count": 113,
   "id": "a2ce726a-d8c3-459b-9f08-2fffa4a2f372",
   "metadata": {},
   "outputs": [
    {
     "name": "stderr",
     "output_type": "stream",
     "text": [
      "100%|███████████████████████████████████████████████████████| 13/13 [00:30<00:00,  2.35s/it]\n"
     ]
    }
   ],
   "source": [
    "# test = original_test_harness(states[1:3], temperature=0.8)\n",
    "responses = new_test_harness(valid_states)"
   ]
  },
  {
   "cell_type": "code",
   "execution_count": 173,
   "id": "803863fc-5e82-48fa-93d9-b3f06f73adf4",
   "metadata": {},
   "outputs": [
    {
     "name": "stderr",
     "output_type": "stream",
     "text": [
      "100%|███████████████████████████████████████████████████████| 13/13 [00:28<00:00,  2.18s/it]\n",
      "100%|███████████████████████████████████████████████████████| 13/13 [00:41<00:00,  3.18s/it]\n",
      "100%|███████████████████████████████████████████████████████| 18/18 [00:40<00:00,  2.27s/it]\n"
     ]
    }
   ],
   "source": [
    "all_results = []\n",
    "\n",
    "for test in valid_records[:3]:\n",
    "    try:\n",
    "        all_results.append(new_test_harness(test))\n",
    "    except Exception as e:\n",
    "        print(e)\n",
    "        continue"
   ]
  },
  {
   "cell_type": "code",
   "execution_count": 157,
   "id": "2251f0e5-db6a-4e14-b1c1-436b1be23bf9",
   "metadata": {},
   "outputs": [],
   "source": [
    "def parse_test_results(results: list[dict]) -> list[dict]:\n",
    "    num_results = len(results)\n",
    "    parse_errors = 0\n",
    "    hits = 0\n",
    "    errors = []\n",
    "    for res in results:\n",
    "        try:\n",
    "            label = res['label'].strip()\n",
    "            subbed = json.loads(re.sub(\"</s>\", '', res[\"response\"]))\n",
    "            try:\n",
    "                predicted = subbed['predicted_state'].strip()\n",
    "                \n",
    "            except KeyError:\n",
    "                predicted = subbed['current_state'].strip()\n",
    "            if predicted == label:\n",
    "                hits += 1\n",
    "            else: errors.append(res)\n",
    "        except json.JSONDecodeError:\n",
    "            parse_errors += 1\n",
    "            print(f\"Parse ERROR: \\t{res['response']}\")\n",
    "    parse_error_rate = round(parse_errors/num_results, 2)\n",
    "    hit_rate = round(hits/num_results, 2)\n",
    "    print(f'Parse Error Rate: {parse_error_rate}')\n",
    "    print(f'Hit Rate: {hit_rate}')\n",
    "    print(f'Hits: {hits} out of {num_results}')\n",
    "    return parse_errors, errors, hit_rate"
   ]
  },
  {
   "cell_type": "code",
   "execution_count": 122,
   "id": "b890a834-f7e4-4cef-a43a-a1854c31439b",
   "metadata": {},
   "outputs": [],
   "source": [
    "miss_verbiage = [\n",
    "    'To be advised, we got a helo flying low over the north corner of the field.',\n",
    "    \"Yeah. Yeah? Mistrial? Mistrial. OK. All call, all call. Trial completion, trial completion. So, yeah. It's passed. So there were, Kate filled me in, there were a few frames, maybe there was something in frame, but they didn't have a lawyer now. Go for Travis.\",\n",
    "    \"So, this will be trial two, two, one. And if you're ready, I'm gonna give the call. All call, all call. Trial 2-2-1 has begun. All call, all call. Trial 2-2-1 has begun.\",\n",
    "    \"the trial and we'll just All calls, trial end. Let's have red vehicle reset, and we will restart. Yeah, reset those bad boys.\",\n",
    "    \"I'm like a Mistrial was requested trial and trial and resetting for next trial\"\n",
    "]"
   ]
  },
  {
   "cell_type": "code",
   "execution_count": 176,
   "id": "4001c506-ad49-45d3-bcee-29ab08f1037a",
   "metadata": {},
   "outputs": [
    {
     "data": {
      "text/html": [
       "<pre style=\"white-space:pre;overflow-x:auto;line-height:normal;font-family:Menlo,'DejaVu Sans Mono',consolas,'Courier New',monospace\">Parse Error Rate: <span style=\"color: #008080; text-decoration-color: #008080; font-weight: bold\">0.0</span>\n",
       "</pre>\n"
      ],
      "text/plain": [
       "Parse Error Rate: \u001b[1;36m0.0\u001b[0m\n"
      ]
     },
     "metadata": {},
     "output_type": "display_data"
    },
    {
     "data": {
      "text/html": [
       "<pre style=\"white-space:pre;overflow-x:auto;line-height:normal;font-family:Menlo,'DejaVu Sans Mono',consolas,'Courier New',monospace\">Hit Rate: <span style=\"color: #008080; text-decoration-color: #008080; font-weight: bold\">0.46</span>\n",
       "</pre>\n"
      ],
      "text/plain": [
       "Hit Rate: \u001b[1;36m0.46\u001b[0m\n"
      ]
     },
     "metadata": {},
     "output_type": "display_data"
    },
    {
     "data": {
      "text/html": [
       "<pre style=\"white-space:pre;overflow-x:auto;line-height:normal;font-family:Menlo,'DejaVu Sans Mono',consolas,'Courier New',monospace\">Hits: <span style=\"color: #008080; text-decoration-color: #008080; font-weight: bold\">6</span> out of <span style=\"color: #008080; text-decoration-color: #008080; font-weight: bold\">13</span>\n",
       "</pre>\n"
      ],
      "text/plain": [
       "Hits: \u001b[1;36m6\u001b[0m out of \u001b[1;36m13\u001b[0m\n"
      ]
     },
     "metadata": {},
     "output_type": "display_data"
    },
    {
     "data": {
      "text/html": [
       "<pre style=\"white-space:pre;overflow-x:auto;line-height:normal;font-family:Menlo,'DejaVu Sans Mono',consolas,'Courier New',monospace\">Parse Error Rate: <span style=\"color: #008080; text-decoration-color: #008080; font-weight: bold\">0.0</span>\n",
       "</pre>\n"
      ],
      "text/plain": [
       "Parse Error Rate: \u001b[1;36m0.0\u001b[0m\n"
      ]
     },
     "metadata": {},
     "output_type": "display_data"
    },
    {
     "data": {
      "text/html": [
       "<pre style=\"white-space:pre;overflow-x:auto;line-height:normal;font-family:Menlo,'DejaVu Sans Mono',consolas,'Courier New',monospace\">Hit Rate: <span style=\"color: #008080; text-decoration-color: #008080; font-weight: bold\">0.62</span>\n",
       "</pre>\n"
      ],
      "text/plain": [
       "Hit Rate: \u001b[1;36m0.62\u001b[0m\n"
      ]
     },
     "metadata": {},
     "output_type": "display_data"
    },
    {
     "data": {
      "text/html": [
       "<pre style=\"white-space:pre;overflow-x:auto;line-height:normal;font-family:Menlo,'DejaVu Sans Mono',consolas,'Courier New',monospace\">Hits: <span style=\"color: #008080; text-decoration-color: #008080; font-weight: bold\">8</span> out of <span style=\"color: #008080; text-decoration-color: #008080; font-weight: bold\">13</span>\n",
       "</pre>\n"
      ],
      "text/plain": [
       "Hits: \u001b[1;36m8\u001b[0m out of \u001b[1;36m13\u001b[0m\n"
      ]
     },
     "metadata": {},
     "output_type": "display_data"
    },
    {
     "data": {
      "text/html": [
       "<pre style=\"white-space:pre;overflow-x:auto;line-height:normal;font-family:Menlo,'DejaVu Sans Mono',consolas,'Courier New',monospace\">Parse Error Rate: <span style=\"color: #008080; text-decoration-color: #008080; font-weight: bold\">0.0</span>\n",
       "</pre>\n"
      ],
      "text/plain": [
       "Parse Error Rate: \u001b[1;36m0.0\u001b[0m\n"
      ]
     },
     "metadata": {},
     "output_type": "display_data"
    },
    {
     "data": {
      "text/html": [
       "<pre style=\"white-space:pre;overflow-x:auto;line-height:normal;font-family:Menlo,'DejaVu Sans Mono',consolas,'Courier New',monospace\">Hit Rate: <span style=\"color: #008080; text-decoration-color: #008080; font-weight: bold\">0.28</span>\n",
       "</pre>\n"
      ],
      "text/plain": [
       "Hit Rate: \u001b[1;36m0.28\u001b[0m\n"
      ]
     },
     "metadata": {},
     "output_type": "display_data"
    },
    {
     "data": {
      "text/html": [
       "<pre style=\"white-space:pre;overflow-x:auto;line-height:normal;font-family:Menlo,'DejaVu Sans Mono',consolas,'Courier New',monospace\">Hits: <span style=\"color: #008080; text-decoration-color: #008080; font-weight: bold\">5</span> out of <span style=\"color: #008080; text-decoration-color: #008080; font-weight: bold\">18</span>\n",
       "</pre>\n"
      ],
      "text/plain": [
       "Hits: \u001b[1;36m5\u001b[0m out of \u001b[1;36m18\u001b[0m\n"
      ]
     },
     "metadata": {},
     "output_type": "display_data"
    }
   ],
   "source": [
    "rates = []\n",
    "errors = []\n",
    "for i, atest in enumerate(all_results):\n",
    "    try:\n",
    "        atuple = parse_test_results(atest)\n",
    "        rates.append(atuple[2])\n",
    "        errors.append(atuple[1])\n",
    "    except Exception as e:\n",
    "        print(f'ERROR at {i}: due to {e}')\n",
    "        continue"
   ]
  },
  {
   "cell_type": "code",
   "execution_count": 175,
   "id": "d3b8a33a-78eb-438e-9e8c-208e2b4035bc",
   "metadata": {},
   "outputs": [
    {
     "data": {
      "text/plain": [
       "0.45333333333333337"
      ]
     },
     "execution_count": 175,
     "metadata": {},
     "output_type": "execute_result"
    }
   ],
   "source": [
    "sum(rates)/len(rates)"
   ]
  },
  {
   "cell_type": "code",
   "execution_count": 177,
   "id": "3d6d460b-3917-482b-8c85-49e82f0ac9ec",
   "metadata": {},
   "outputs": [
    {
     "data": {
      "text/plain": [
       "[[{'response': '{\"predicted_state\": \"Trial End\", \"reason\": \"Radio transmissions indicate that the GARC is still idle and not moving, which suggests that the trial has not started. Therefore, it is reasonable to predict that the trial will end without any progress.\"}',\n",
       "   'label': 'Delay Start',\n",
       "   'minute': '09:33'},\n",
       "  {'response': '{\"predicted_state\": \"RTB\", \"reason\": \"Radio transmissions indicate that the boats are in transit to their base of operations, thus signaling the end of the trials.\"}',\n",
       "   'label': 'Trial End',\n",
       "   'minute': '09:40'},\n",
       "  {'response': '{\"current_state\": \"Trial End\"}',\n",
       "   'label': 'Trial Start',\n",
       "   'minute': '10:11'},\n",
       "  {'response': '{\"current_state\": \"Trial End\"}</s>',\n",
       "   'label': 'Delay Start',\n",
       "   'minute': '10:33'},\n",
       "  {'response': '{\"current_state\": \"Trial Start\"}',\n",
       "   'label': 'Trial End',\n",
       "   'minute': '11:01'},\n",
       "  {'response': '{\"current_state\": \"Trial End\"}</s>',\n",
       "   'label': 'Trial Start',\n",
       "   'minute': '11:07'},\n",
       "  {'response': '{\"current_state\": \"Trial End\"}</s>',\n",
       "   'label': 'RTB',\n",
       "   'minute': '15:32'}],\n",
       " [{'response': '{\"predicted_state\": \"Trial End\", \"reason\": \"Radio transmission from the Test Director indicates that the trial has been completed and the trial window has closed.\"}</s>',\n",
       "   'label': 'Trial Start',\n",
       "   'minute': '10:19'},\n",
       "  {'response': '{\"current_state\": \"Trial End\"}',\n",
       "   'label': 'Trial Start',\n",
       "   'minute': '10:38'},\n",
       "  {'response': '{\"current_state\": \"Trial End\"}',\n",
       "   'label': 'Trial Start',\n",
       "   'minute': '11:49'},\n",
       "  {'response': '{\"current_state\": \"Trial End\"}',\n",
       "   'label': 'Delay Start',\n",
       "   'minute': '12:48'},\n",
       "  {'response': '{\"current_state\": \"Trial End\"}',\n",
       "   'label': 'Trial Start',\n",
       "   'minute': '14:55'}],\n",
       " [{'response': '{\"current_state\": \"Trial Start\"}</s>',\n",
       "   'label': 'Delay Start',\n",
       "   'minute': '11:01'},\n",
       "  {'response': '{\"predicted_state\": \"RTB\", \"reason\": \"Radio transmissions indicate that all boats are in transit to their base of operations, thus signaling the end of the trials.\"}',\n",
       "   'label': 'Trial End',\n",
       "   'minute': '11:36'},\n",
       "  {'response': '{\"current_state\": \"Trial End\"}</s>',\n",
       "   'label': 'Trial Start',\n",
       "   'minute': '12:01'},\n",
       "  {'response': '{\"predicted_state\": \"RTB\", \"reason\": \"Radio transmissions indicate that all trials have ended and boats are in transit to their base of operations.\"}',\n",
       "   'label': 'Trial End',\n",
       "   'minute': '12:30'},\n",
       "  {'response': '{\"current_state\": \"Trial End\"}</s>',\n",
       "   'label': 'Trial Start',\n",
       "   'minute': '12:50'},\n",
       "  {'response': '{\"current_state\": \"Trial Start\"}',\n",
       "   'label': 'Delay Start',\n",
       "   'minute': '13:00'},\n",
       "  {'response': '{\"predicted_state\": \"Trial Start\", \"reason\": \"Radio transmission from the Test Director indicates that a full trial has been completed and the trial is ending, thus signaling the start of a new trial.\"}',\n",
       "   'label': 'Trial End',\n",
       "   'minute': '13:22'},\n",
       "  {'response': '{\"current_state\": \"Trial End\"}',\n",
       "   'label': 'Trial Start',\n",
       "   'minute': '14:23'},\n",
       "  {'response': '{\"current_state\": \"Trial End\"}',\n",
       "   'label': 'Delay Start',\n",
       "   'minute': '15:26'},\n",
       "  {'response': '{\"predicted_state\": \"Trial End\", \"reason\": \"Radio transmission from the Test Director indicates that a new trial (9.2.5) has just commenced.\"}',\n",
       "   'label': 'Trial Start',\n",
       "   'minute': '16:18'},\n",
       "  {'response': '{\"predicted_state\": \"Mistrial\", \"reason\": \"Radio transmission from the Test Director indicates that operations are getting out of hand and therefore declares a mistrial.\"}</s>',\n",
       "   'label': 'Trial End',\n",
       "   'minute': '16:21'},\n",
       "  {'response': '{\"current_state\": \"Trial End\"}</s>',\n",
       "   'label': 'Trial Start',\n",
       "   'minute': '16:55'},\n",
       "  {'response': '{\"predicted_state\": \"RTB\", \"reason\": \"Radio transmissions indicate that the trial has ended and all assets are in transit to their base of operations.\"}',\n",
       "   'label': 'Trial End',\n",
       "   'minute': '17:24'}]]"
      ]
     },
     "execution_count": 177,
     "metadata": {},
     "output_type": "execute_result"
    }
   ],
   "source": [
    "errors"
   ]
  },
  {
   "cell_type": "code",
   "execution_count": null,
   "id": "0a6c7e34-20d3-4717-91e5-4067524c22e3",
   "metadata": {},
   "outputs": [],
   "source": []
  }
 ],
 "metadata": {
  "kernelspec": {
   "display_name": "Python 3 (ipykernel)",
   "language": "python",
   "name": "python3"
  },
  "language_info": {
   "codemirror_mode": {
    "name": "ipython",
    "version": 3
   },
   "file_extension": ".py",
   "mimetype": "text/x-python",
   "name": "python",
   "nbconvert_exporter": "python",
   "pygments_lexer": "ipython3",
   "version": "3.12.5"
  }
 },
 "nbformat": 4,
 "nbformat_minor": 5
}
